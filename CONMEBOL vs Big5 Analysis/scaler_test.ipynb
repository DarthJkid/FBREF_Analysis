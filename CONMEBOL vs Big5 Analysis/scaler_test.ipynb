{
 "cells": [
  {
   "cell_type": "code",
   "execution_count": 1,
   "metadata": {},
   "outputs": [
    {
     "name": "stdout",
     "output_type": "stream",
     "text": [
      "Type of scaler_X_params: <class 'numpy.ndarray'>\n",
      "Shape of scaler_X_params: (8,)\n",
      "\n",
      "Content of scaler_X_params:\n",
      "[0.15865683 0.05428096 0.12005947 6.22642724 0.32232797 0.65375473\n",
      " 0.03801482 0.04763234]\n"
     ]
    }
   ],
   "source": [
    "import numpy as np\n",
    "\n",
    "# Check your scaler_X.npy file explicitly\n",
    "scaler_X_params = np.load(\"/workspaces/FBREF_Analysis/CONMEBOL vs Big5 Analysis/scaler_X.npy\", allow_pickle=True)\n",
    "\n",
    "print(\"Type of scaler_X_params:\", type(scaler_X_params))\n",
    "print(\"Shape of scaler_X_params:\", scaler_X_params.shape)\n",
    "print(\"\\nContent of scaler_X_params:\")\n",
    "print(scaler_X_params)\n"
   ]
  }
 ],
 "metadata": {
  "kernelspec": {
   "display_name": "Python 3",
   "language": "python",
   "name": "python3"
  },
  "language_info": {
   "codemirror_mode": {
    "name": "ipython",
    "version": 3
   },
   "file_extension": ".py",
   "mimetype": "text/x-python",
   "name": "python",
   "nbconvert_exporter": "python",
   "pygments_lexer": "ipython3",
   "version": "3.12.1"
  }
 },
 "nbformat": 4,
 "nbformat_minor": 2
}
