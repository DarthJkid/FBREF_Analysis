{
 "cells": [
  {
   "cell_type": "markdown",
   "metadata": {},
   "source": [
    "# Predicting Forward Performance in Big 5 Leagues from Brazil Serie A
",
    "
",
    "This notebook analyzes how forwards perform when moving from Brazil's Serie A to the Big 5 European leagues. It:
",
    "- Matches players who have played in both leagues.
",
    "- Calculates the percentage change in key performance statistics.
",
    "- Trains a neural network model to predict performance differences."
   ]
  },
  {
   "cell_type": "code",
   "execution_count": null,
   "metadata": {},
   "outputs": [],
   "source": [
    "# Import necessary libraries
",
    "import pandas as pd
",
    "import numpy as np
",
    "from sklearn.model_selection import train_test_split
",
    "from sklearn.preprocessing import StandardScaler
",
    "import tensorflow as tf  # Ensure TensorFlow is installed
",
    "
",
    "# Load datasets
",
    "brasil_serieA_df = pd.read_csv("Fixed_Brasil_SerieA.csv")
",
    "big5_forwards_df = pd.read_csv("Big5CombinedForwards.csv")"
   ]
  },
  {
   "cell_type": "markdown",
   "metadata": {},
   "source": [
    "## Match Players in Both Leagues"
   ]
  },
  {
   "cell_type": "code",
   "execution_count": null,
   "metadata": {},
   "outputs": [],
   "source": [
    "# Standardize player names
",
    "brasil_serieA_df["Player"] = brasil_serieA_df["Player"].str.strip().str.lower()
",
    "big5_forwards_df["Player"] = big5_forwards_df["Player"].str.strip().str.lower()
",
    "
",
    "# Group Big 5 players by name and average stats if they appear multiple times
",
    "big5_grouped = big5_forwards_df.groupby("Player").mean().reset_index()
",
    "
",
    "# Merge datasets based on player name
",
    "matched_players = brasil_serieA_df.merge(big5_grouped, on="Player", suffixes=("_brasil", "_big5"))"
   ]
  },
  {
   "cell_type": "markdown",
   "metadata": {},
   "source": [
    "## Compute Percentage Differences"
   ]
  },
  {
   "cell_type": "code",
   "execution_count": null,
   "metadata": {},
   "outputs": [],
   "source": [
    "performance_columns = ["Gls/90", "G/Sh", "G/SoT", "SoT%", "SoT/90", "Sh/90", "G-PK/90", "PK/90", "PKatt/90"]
",
    "
",
    "# Calculate percentage difference
",
    "for col in performance_columns:
",
    "    matched_players[f"{col}_diff"] = ((matched_players[f"{col}_big5"] - matched_players[f"{col}_brasil"]) / matched_players[f"{col}_brasil"]) * 100
",
    "
",
    "# Compute average percentage difference across all metrics
",
    "matched_players["Avg_Percent_Diff"] = matched_players[[f"{col}_diff" for col in performance_columns]].mean(axis=1)"
   ]
  },
  {
   "cell_type": "markdown",
   "metadata": {},
   "source": [
    "## Prepare Data for Machine Learning"
   ]
  },
  {
   "cell_type": "code",
   "execution_count": null,
   "metadata": {},
   "outputs": [],
   "source": [
    "# Define features and target variables
",
    "X = matched_players[[f"{col}_brasil" for col in performance_columns]].values  # Features from Brazil Serie A
",
    "y = matched_players[[f"{col}_diff" for col in performance_columns]].values  # Target: Percentage change in Big 5 leagues
",
    "
",
    "# Standardize data
",
    "scaler_X = StandardScaler()
",
    "scaler_y = StandardScaler()
",
    "
",
    "X_scaled = scaler_X.fit_transform(X)
",
    "y_scaled = scaler_y.fit_transform(y)
",
    "
",
    "# Train-test split
",
    "X_train, X_test, y_train, y_test = train_test_split(X_scaled, y_scaled, test_size=0.2, random_state=42)"
   ]
  },
  {
   "cell_type": "markdown",
   "metadata": {},
   "source": [
    "## Train a Neural Network Model"
   ]
  },
  {
   "cell_type": "code",
   "execution_count": null,
   "metadata": {},
   "outputs": [],
   "source": [
    "# Define the neural network model
",
    "model = tf.keras.Sequential([
",
    "    tf.keras.layers.Dense(64, activation='relu', input_shape=(X_train.shape[1],)),
",
    "    tf.keras.layers.Dense(64, activation='relu'),
",
    "    tf.keras.layers.Dense(y_train.shape[1])  # Output layer
",
    "])
",
    "
",
    "# Compile model
",
    "model.compile(optimizer='adam', loss='mse', metrics=['mae'])
",
    "
",
    "# Train model
",
    "history = model.fit(X_train, y_train, epochs=100, batch_size=16, validation_data=(X_test, y_test), verbose=1)"
   ]
  },
  {
   "cell_type": "markdown",
   "metadata": {},
   "source": [
    "## Save Model and Scalers"
   ]
  },
  {
   "cell_type": "code",
   "execution_count": null,
   "metadata": {},
   "outputs": [],
   "source": [
    "# Save the trained model
",
    "model.save("brazil_to_big5_model.h5")
",
    "np.save("scaler_X.npy", scaler_X.scale_)
",
    "np.save("scaler_y.npy", scaler_y.scale_)"
   ]
  }
 ],
 "metadata": {
  "kernelspec": {
   "display_name": "Python 3",
   "language": "python",
   "name": "python3"
  },
  "language_info": {
   "codemirror_mode": {
    "name": "ipython",
    "version": 3
   },
   "file_extension": ".py",
   "mimetype": "text/x-python",
   "name": "python",
   "nbconvert_exporter": "python",
   "pygments_lexer": "ipython3",
   "version": "3.8.10"
  }
 },
 "nbformat": 4,
 "nbformat_minor": 4
}
